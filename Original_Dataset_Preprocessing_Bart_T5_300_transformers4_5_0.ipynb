{
  "nbformat": 4,
  "nbformat_minor": 0,
  "metadata": {
    "colab": {
      "name": "Original Dataset Preprocessing_Bart_T5 300-transformers4.5.0.ipynb",
      "provenance": [],
      "collapsed_sections": [],
      "include_colab_link": true
    },
    "kernelspec": {
      "display_name": "Python 3",
      "name": "python3"
    }
  },
  "cells": [
    {
      "cell_type": "markdown",
      "metadata": {
        "id": "view-in-github",
        "colab_type": "text"
      },
      "source": [
        "<a href=\"https://colab.research.google.com/github/jakansha2001/CoVShorts-News-Summarization-Application-Based-on-Deep-NLP-Transformers-for-SARS-CoV-2/blob/master/Original_Dataset_Preprocessing_Bart_T5_300_transformers4_5_0.ipynb\" target=\"_parent\"><img src=\"https://colab.research.google.com/assets/colab-badge.svg\" alt=\"Open In Colab\"/></a>"
      ]
    },
    {
      "cell_type": "markdown",
      "metadata": {
        "id": "C4NgRsnQFr3S"
      },
      "source": [
        "BART AND T5"
      ]
    },
    {
      "cell_type": "markdown",
      "metadata": {
        "id": "AmH4uLGEW0nf"
      },
      "source": [
        "#NLP model Functions"
      ]
    },
    {
      "cell_type": "code",
      "metadata": {
        "colab": {
          "base_uri": "https://localhost:8080/"
        },
        "id": "Li7CnrmpndT9",
        "outputId": "c7f66691-92d9-462e-f270-b45041a166fa"
      },
      "source": [
        "!pip install transformers==4.5.0\n",
        "!pip install sentencepiece"
      ],
      "execution_count": null,
      "outputs": [
        {
          "output_type": "stream",
          "text": [
            "Requirement already satisfied: transformers==4.5.0 in /usr/local/lib/python3.7/dist-packages (4.5.0)\n",
            "Requirement already satisfied: tqdm>=4.27 in /usr/local/lib/python3.7/dist-packages (from transformers==4.5.0) (4.41.1)\n",
            "Requirement already satisfied: filelock in /usr/local/lib/python3.7/dist-packages (from transformers==4.5.0) (3.0.12)\n",
            "Requirement already satisfied: sacremoses in /usr/local/lib/python3.7/dist-packages (from transformers==4.5.0) (0.0.45)\n",
            "Requirement already satisfied: tokenizers<0.11,>=0.10.1 in /usr/local/lib/python3.7/dist-packages (from transformers==4.5.0) (0.10.3)\n",
            "Requirement already satisfied: importlib-metadata; python_version < \"3.8\" in /usr/local/lib/python3.7/dist-packages (from transformers==4.5.0) (4.0.1)\n",
            "Requirement already satisfied: packaging in /usr/local/lib/python3.7/dist-packages (from transformers==4.5.0) (20.9)\n",
            "Requirement already satisfied: requests in /usr/local/lib/python3.7/dist-packages (from transformers==4.5.0) (2.23.0)\n",
            "Requirement already satisfied: numpy>=1.17 in /usr/local/lib/python3.7/dist-packages (from transformers==4.5.0) (1.19.5)\n",
            "Requirement already satisfied: regex!=2019.12.17 in /usr/local/lib/python3.7/dist-packages (from transformers==4.5.0) (2019.12.20)\n",
            "Requirement already satisfied: click in /usr/local/lib/python3.7/dist-packages (from sacremoses->transformers==4.5.0) (7.1.2)\n",
            "Requirement already satisfied: six in /usr/local/lib/python3.7/dist-packages (from sacremoses->transformers==4.5.0) (1.15.0)\n",
            "Requirement already satisfied: joblib in /usr/local/lib/python3.7/dist-packages (from sacremoses->transformers==4.5.0) (1.0.1)\n",
            "Requirement already satisfied: zipp>=0.5 in /usr/local/lib/python3.7/dist-packages (from importlib-metadata; python_version < \"3.8\"->transformers==4.5.0) (3.4.1)\n",
            "Requirement already satisfied: typing-extensions>=3.6.4; python_version < \"3.8\" in /usr/local/lib/python3.7/dist-packages (from importlib-metadata; python_version < \"3.8\"->transformers==4.5.0) (3.7.4.3)\n",
            "Requirement already satisfied: pyparsing>=2.0.2 in /usr/local/lib/python3.7/dist-packages (from packaging->transformers==4.5.0) (2.4.7)\n",
            "Requirement already satisfied: certifi>=2017.4.17 in /usr/local/lib/python3.7/dist-packages (from requests->transformers==4.5.0) (2020.12.5)\n",
            "Requirement already satisfied: chardet<4,>=3.0.2 in /usr/local/lib/python3.7/dist-packages (from requests->transformers==4.5.0) (3.0.4)\n",
            "Requirement already satisfied: urllib3!=1.25.0,!=1.25.1,<1.26,>=1.21.1 in /usr/local/lib/python3.7/dist-packages (from requests->transformers==4.5.0) (1.24.3)\n",
            "Requirement already satisfied: idna<3,>=2.5 in /usr/local/lib/python3.7/dist-packages (from requests->transformers==4.5.0) (2.10)\n",
            "Requirement already satisfied: sentencepiece in /usr/local/lib/python3.7/dist-packages (0.1.95)\n"
          ],
          "name": "stdout"
        }
      ]
    },
    {
      "cell_type": "code",
      "metadata": {
        "colab": {
          "base_uri": "https://localhost:8080/"
        },
        "id": "dhrAENh0nhHT",
        "outputId": "7b0ab50f-9484-4c5e-9ade-ec8b56774e38"
      },
      "source": [
        "# !pip install spacy\n",
        "!pip install spacy"
      ],
      "execution_count": null,
      "outputs": [
        {
          "output_type": "stream",
          "text": [
            "Requirement already satisfied: spacy in /usr/local/lib/python3.7/dist-packages (2.2.4)\n",
            "Requirement already satisfied: plac<1.2.0,>=0.9.6 in /usr/local/lib/python3.7/dist-packages (from spacy) (1.1.3)\n",
            "Requirement already satisfied: setuptools in /usr/local/lib/python3.7/dist-packages (from spacy) (57.0.0)\n",
            "Requirement already satisfied: numpy>=1.15.0 in /usr/local/lib/python3.7/dist-packages (from spacy) (1.19.5)\n",
            "Requirement already satisfied: srsly<1.1.0,>=1.0.2 in /usr/local/lib/python3.7/dist-packages (from spacy) (1.0.5)\n",
            "Requirement already satisfied: catalogue<1.1.0,>=0.0.7 in /usr/local/lib/python3.7/dist-packages (from spacy) (1.0.0)\n",
            "Requirement already satisfied: preshed<3.1.0,>=3.0.2 in /usr/local/lib/python3.7/dist-packages (from spacy) (3.0.5)\n",
            "Requirement already satisfied: blis<0.5.0,>=0.4.0 in /usr/local/lib/python3.7/dist-packages (from spacy) (0.4.1)\n",
            "Requirement already satisfied: thinc==7.4.0 in /usr/local/lib/python3.7/dist-packages (from spacy) (7.4.0)\n",
            "Requirement already satisfied: murmurhash<1.1.0,>=0.28.0 in /usr/local/lib/python3.7/dist-packages (from spacy) (1.0.5)\n",
            "Requirement already satisfied: requests<3.0.0,>=2.13.0 in /usr/local/lib/python3.7/dist-packages (from spacy) (2.23.0)\n",
            "Requirement already satisfied: tqdm<5.0.0,>=4.38.0 in /usr/local/lib/python3.7/dist-packages (from spacy) (4.41.1)\n",
            "Requirement already satisfied: cymem<2.1.0,>=2.0.2 in /usr/local/lib/python3.7/dist-packages (from spacy) (2.0.5)\n",
            "Requirement already satisfied: wasabi<1.1.0,>=0.4.0 in /usr/local/lib/python3.7/dist-packages (from spacy) (0.8.2)\n",
            "Requirement already satisfied: importlib-metadata>=0.20; python_version < \"3.8\" in /usr/local/lib/python3.7/dist-packages (from catalogue<1.1.0,>=0.0.7->spacy) (4.0.1)\n",
            "Requirement already satisfied: idna<3,>=2.5 in /usr/local/lib/python3.7/dist-packages (from requests<3.0.0,>=2.13.0->spacy) (2.10)\n",
            "Requirement already satisfied: urllib3!=1.25.0,!=1.25.1,<1.26,>=1.21.1 in /usr/local/lib/python3.7/dist-packages (from requests<3.0.0,>=2.13.0->spacy) (1.24.3)\n",
            "Requirement already satisfied: chardet<4,>=3.0.2 in /usr/local/lib/python3.7/dist-packages (from requests<3.0.0,>=2.13.0->spacy) (3.0.4)\n",
            "Requirement already satisfied: certifi>=2017.4.17 in /usr/local/lib/python3.7/dist-packages (from requests<3.0.0,>=2.13.0->spacy) (2020.12.5)\n",
            "Requirement already satisfied: typing-extensions>=3.6.4; python_version < \"3.8\" in /usr/local/lib/python3.7/dist-packages (from importlib-metadata>=0.20; python_version < \"3.8\"->catalogue<1.1.0,>=0.0.7->spacy) (3.7.4.3)\n",
            "Requirement already satisfied: zipp>=0.5 in /usr/local/lib/python3.7/dist-packages (from importlib-metadata>=0.20; python_version < \"3.8\"->catalogue<1.1.0,>=0.0.7->spacy) (3.4.1)\n"
          ],
          "name": "stdout"
        }
      ]
    },
    {
      "cell_type": "markdown",
      "metadata": {
        "id": "hAuxVdblQJ9Z"
      },
      "source": [
        "T5"
      ]
    },
    {
      "cell_type": "code",
      "metadata": {
        "id": "HSdplE2SQ35X"
      },
      "source": [
        "from transformers import T5Tokenizer, T5ForConditionalGeneration\n",
        "model = T5ForConditionalGeneration.from_pretrained('t5-base')\n",
        "tokenizer = T5Tokenizer.from_pretrained('t5-base')\n",
        "\n",
        "def t5Sum(body):\n",
        "  tokens_input = tokenizer.encode(body, return_tensors=\"pt\", max_length=512, truncation=True)\n",
        "  summary_ids = model.generate(tokens_input, min_length=60, max_length=180, length_penalty=4.0)\n",
        "  summary = tokenizer.decode(summary_ids[0])\n",
        "  return summary"
      ],
      "execution_count": null,
      "outputs": []
    },
    {
      "cell_type": "markdown",
      "metadata": {
        "id": "tiuSWhsSQLoX"
      },
      "source": [
        "BART"
      ]
    },
    {
      "cell_type": "code",
      "metadata": {
        "id": "f4V-zt5rQNEo"
      },
      "source": [
        "from transformers import pipeline\n",
        "bartSummarizer = pipeline('summarization', model='facebook/bart-large-cnn', tokenizer='facebook/bart-large-cnn')\n",
        "\n",
        "def bartSum(body):\n",
        "  summary=bartSummarizer(body, min_length = round(0.1 * len(body.split(' '))), max_length = round(0.2 * len(body.split(' '))), do_sample=False, truncation=True)\n",
        "  return summary[0]['summary_text']"
      ],
      "execution_count": null,
      "outputs": []
    },
    {
      "cell_type": "markdown",
      "metadata": {
        "id": "J561Mjd9Kx0Y"
      },
      "source": [
        "#Importing Covid article dataset csv file\n",
        "\n"
      ]
    },
    {
      "cell_type": "code",
      "metadata": {
        "id": "Mcst4RZIoAyt"
      },
      "source": [
        "#from google.colab import drive\n",
        "#drive.mount(\"/content/gdrive\")"
      ],
      "execution_count": null,
      "outputs": []
    },
    {
      "cell_type": "code",
      "metadata": {
        "id": "nAQoZZRCur01"
      },
      "source": [
        "import pandas as pd"
      ],
      "execution_count": null,
      "outputs": []
    },
    {
      "cell_type": "code",
      "metadata": {
        "id": "16lAEuBSomVd"
      },
      "source": [
        "#df=pd.read_csv('/content/gdrive/My Drive/covid-19dataset/covid_dataset.csv')"
      ],
      "execution_count": null,
      "outputs": []
    },
    {
      "cell_type": "code",
      "metadata": {
        "id": "O97oLMMhJ8ea"
      },
      "source": [
        "df=pd.read_csv('https://raw.githubusercontent.com/jakansha2001/Datasets/master/covid19_articles1000.csv')"
      ],
      "execution_count": null,
      "outputs": []
    },
    {
      "cell_type": "code",
      "metadata": {
        "id": "ND8BdnqiKy0z"
      },
      "source": [
        "#dataset=df.values.tolist()\n",
        "dataset=df['content'].tolist()"
      ],
      "execution_count": null,
      "outputs": []
    },
    {
      "cell_type": "code",
      "metadata": {
        "id": "--f0__rhot3v"
      },
      "source": [
        "small_dataset = dataset[300:400]"
      ],
      "execution_count": null,
      "outputs": []
    },
    {
      "cell_type": "markdown",
      "metadata": {
        "id": "ql35Uu5TyXsP"
      },
      "source": [
        "Preprocessing the Data"
      ]
    },
    {
      "cell_type": "code",
      "metadata": {
        "id": "YmVAGUneyadZ"
      },
      "source": [
        "import re"
      ],
      "execution_count": null,
      "outputs": []
    },
    {
      "cell_type": "code",
      "metadata": {
        "id": "42Ag65ZRybJV"
      },
      "source": [
        "def preprocessor(text):\n",
        "  text = text.lower()\n",
        "  text = re.sub(re.compile('<.*?>'),'',text)\n",
        "  text = re.sub('\\[.*?\\]','',text)\n",
        "  #text = re.sub('[%s]' % re.escape(string.punctuation), '', text)\n",
        "  #text = re.sub('[''\"\"...]','',text)\n",
        "  text = re.sub('\\n','',text)\n",
        "  #text = re.sub('\\w*\\w*','',text)\n",
        "  text = re.sub('\\xa0','',text)\n",
        "  text = re.sub('\\u200b','',text)\n",
        "  text = re.sub('http.*?','',text)\n",
        "  text = re.sub(r'\\\\','',text)\n",
        "  return text\n",
        "\n",
        "processedArticles = []\n",
        "\n",
        "for article in small_dataset:\n",
        "    processedArticles.append(preprocessor(article))\n"
      ],
      "execution_count": null,
      "outputs": []
    },
    {
      "cell_type": "markdown",
      "metadata": {
        "id": "BWMu9VfUYJjA"
      },
      "source": [
        "Generating summaries"
      ]
    },
    {
      "cell_type": "code",
      "metadata": {
        "id": "8aj0MMeZGF1M"
      },
      "source": [
        "t5Result = []\n",
        "bartResult = []"
      ],
      "execution_count": null,
      "outputs": []
    },
    {
      "cell_type": "code",
      "metadata": {
        "colab": {
          "base_uri": "https://localhost:8080/"
        },
        "id": "37ApMC2qm3c5",
        "outputId": "549dbcca-09f1-4786-e1bb-2483b7b91717"
      },
      "source": [
        "i = 1\n",
        "for article in processedArticles:\n",
        "  t5Result.append(t5Sum(article))\n",
        "  bartResult.append(bartSum(article))\n",
        "  print(i)\n",
        "  i = i + 1"
      ],
      "execution_count": null,
      "outputs": [
        {
          "output_type": "stream",
          "text": [
            "1\n",
            "2\n",
            "3\n",
            "4\n",
            "5\n",
            "6\n",
            "7\n",
            "8\n",
            "9\n",
            "10\n",
            "11\n",
            "12\n",
            "13\n",
            "14\n",
            "15\n",
            "16\n",
            "17\n",
            "18\n",
            "19\n",
            "20\n",
            "21\n",
            "22\n",
            "23\n",
            "24\n",
            "25\n",
            "26\n",
            "27\n",
            "28\n",
            "29\n",
            "30\n",
            "31\n",
            "32\n",
            "33\n",
            "34\n",
            "35\n",
            "36\n",
            "37\n",
            "38\n",
            "39\n",
            "40\n",
            "41\n",
            "42\n",
            "43\n",
            "44\n",
            "45\n",
            "46\n",
            "47\n",
            "48\n",
            "49\n",
            "50\n",
            "51\n",
            "52\n",
            "53\n",
            "54\n",
            "55\n",
            "56\n",
            "57\n",
            "58\n",
            "59\n",
            "60\n",
            "61\n",
            "62\n",
            "63\n",
            "64\n",
            "65\n",
            "66\n",
            "67\n",
            "68\n",
            "69\n",
            "70\n",
            "71\n",
            "72\n",
            "73\n",
            "74\n",
            "75\n",
            "76\n",
            "77\n",
            "78\n",
            "79\n",
            "80\n",
            "81\n",
            "82\n",
            "83\n",
            "84\n",
            "85\n",
            "86\n",
            "87\n",
            "88\n",
            "89\n",
            "90\n",
            "91\n",
            "92\n",
            "93\n",
            "94\n",
            "95\n",
            "96\n",
            "97\n",
            "98\n",
            "99\n",
            "100\n"
          ],
          "name": "stdout"
        }
      ]
    },
    {
      "cell_type": "code",
      "metadata": {
        "id": "zH82EKgHgKGu"
      },
      "source": [
        "def resultprocessor(text):\n",
        "  text = re.sub(r'<pad>','',text)\n",
        "  text = re.sub(r'<extra_id_0>','',text)\n",
        "  text = re.sub(r'</s>','',text)\n",
        "  return text\n",
        "\n",
        "t5ProcessedResult = []\n",
        "\n",
        "for res in t5Result:\n",
        "  t5ProcessedResult.append(resultprocessor(res))"
      ],
      "execution_count": null,
      "outputs": []
    },
    {
      "cell_type": "code",
      "metadata": {
        "id": "yle0uDtjofTp"
      },
      "source": [
        "data={'t5-summary':t5ProcessedResult,'bart-summary':bartResult}\n",
        "df = pd.DataFrame(data)\n",
        "df.to_csv('bbc_result.csv', index=False)  "
      ],
      "execution_count": null,
      "outputs": []
    },
    {
      "cell_type": "code",
      "metadata": {
        "id": "9cpKYvOtuwGc",
        "colab": {
          "base_uri": "https://localhost:8080/",
          "height": 203
        },
        "outputId": "49dc8881-1f76-4362-b828-4c868a0642c0"
      },
      "source": [
        "df.head()"
      ],
      "execution_count": null,
      "outputs": [
        {
          "output_type": "execute_result",
          "data": {
            "text/html": [
              "<div>\n",
              "<style scoped>\n",
              "    .dataframe tbody tr th:only-of-type {\n",
              "        vertical-align: middle;\n",
              "    }\n",
              "\n",
              "    .dataframe tbody tr th {\n",
              "        vertical-align: top;\n",
              "    }\n",
              "\n",
              "    .dataframe thead th {\n",
              "        text-align: right;\n",
              "    }\n",
              "</style>\n",
              "<table border=\"1\" class=\"dataframe\">\n",
              "  <thead>\n",
              "    <tr style=\"text-align: right;\">\n",
              "      <th></th>\n",
              "      <th>t5-summary</th>\n",
              "      <th>bart-summary</th>\n",
              "    </tr>\n",
              "  </thead>\n",
              "  <tbody>\n",
              "    <tr>\n",
              "      <th>0</th>\n",
              "      <td>trump said the u.s. has the outbreak of the ...</td>\n",
              "      <td>Donald trump says he's not worried about the c...</td>\n",
              "    </tr>\n",
              "    <tr>\n",
              "      <th>1</th>\n",
              "      <td>sars outbreak in china has led to concerns ov...</td>\n",
              "      <td>There are 440 confirmed cases of coronavirus i...</td>\n",
              "    </tr>\n",
              "    <tr>\n",
              "      <th>2</th>\n",
              "      <td>on wednesday as it reported strong sales in ...</td>\n",
              "      <td>burberry raised its revenue outlook for the y...</td>\n",
              "    </tr>\n",
              "    <tr>\n",
              "      <th>3</th>\n",
              "      <td>virus first detected in wuhan, china, last mo...</td>\n",
              "      <td>Virus was first detected in wuhan, china, last...</td>\n",
              "    </tr>\n",
              "    <tr>\n",
              "      <th>4</th>\n",
              "      <td>u.s. global jets etf jets fell about 3% on j...</td>\n",
              "      <td>Asian stocks were hit hard as travel and comme...</td>\n",
              "    </tr>\n",
              "  </tbody>\n",
              "</table>\n",
              "</div>"
            ],
            "text/plain": [
              "                                          t5-summary                                       bart-summary\n",
              "0    trump said the u.s. has the outbreak of the ...  Donald trump says he's not worried about the c...\n",
              "1   sars outbreak in china has led to concerns ov...  There are 440 confirmed cases of coronavirus i...\n",
              "2    on wednesday as it reported strong sales in ...   burberry raised its revenue outlook for the y...\n",
              "3   virus first detected in wuhan, china, last mo...  Virus was first detected in wuhan, china, last...\n",
              "4    u.s. global jets etf jets fell about 3% on j...  Asian stocks were hit hard as travel and comme..."
            ]
          },
          "metadata": {
            "tags": []
          },
          "execution_count": 56
        }
      ]
    },
    {
      "cell_type": "markdown",
      "metadata": {
        "id": "b5ZHyZGhWk-6"
      },
      "source": [
        "#ROGUE AND BLEU SCORE CALCULATION"
      ]
    },
    {
      "cell_type": "code",
      "metadata": {
        "id": "TqGrYebDog9v",
        "colab": {
          "base_uri": "https://localhost:8080/"
        },
        "outputId": "cfcd3ca2-5666-4b12-8cc4-c93eb5633a16"
      },
      "source": [
        "!pip install rouge-score"
      ],
      "execution_count": null,
      "outputs": [
        {
          "output_type": "stream",
          "text": [
            "Requirement already satisfied: rouge-score in /usr/local/lib/python3.7/dist-packages (0.0.4)\n",
            "Requirement already satisfied: absl-py in /usr/local/lib/python3.7/dist-packages (from rouge-score) (0.12.0)\n",
            "Requirement already satisfied: numpy in /usr/local/lib/python3.7/dist-packages (from rouge-score) (1.19.5)\n",
            "Requirement already satisfied: six>=1.14.0 in /usr/local/lib/python3.7/dist-packages (from rouge-score) (1.15.0)\n",
            "Requirement already satisfied: nltk in /usr/local/lib/python3.7/dist-packages (from rouge-score) (3.2.5)\n"
          ],
          "name": "stdout"
        }
      ]
    },
    {
      "cell_type": "code",
      "metadata": {
        "id": "0nCrVnOXoi-l"
      },
      "source": [
        "t5Rouge = []\n",
        "bartRouge = []"
      ],
      "execution_count": null,
      "outputs": []
    },
    {
      "cell_type": "code",
      "metadata": {
        "id": "kgWhtSPUoktb"
      },
      "source": [
        "from rouge_score import rouge_scorer\n",
        "\n",
        "scorer = rouge_scorer.RougeScorer(['rouge1', 'rougeL'], use_stemmer=True)"
      ],
      "execution_count": null,
      "outputs": []
    },
    {
      "cell_type": "code",
      "metadata": {
        "id": "zfflAHIgolxV"
      },
      "source": [
        "for i in range(0,100):\n",
        "  t5Rouge.append(scorer.score(processedArticles[i], t5ProcessedResult[i]))\n",
        "  bartRouge.append(scorer.score(processedArticles[i], bartResult[i]))"
      ],
      "execution_count": null,
      "outputs": []
    },
    {
      "cell_type": "code",
      "metadata": {
        "id": "yBDb-EXBom4N",
        "colab": {
          "base_uri": "https://localhost:8080/"
        },
        "outputId": "ff7590f8-b2e3-4fe3-a40d-6944b933d288"
      },
      "source": [
        "print('T5 Rouge Scores: ', t5Rouge)\n",
        "print('BART Rouge Scores: ', bartRouge)"
      ],
      "execution_count": null,
      "outputs": [
        {
          "output_type": "stream",
          "text": [
            "T5 Rouge Scores:  [{'rouge1': Score(precision=0.926829268292683, recall=0.36538461538461536, fmeasure=0.5241379310344828), 'rougeL': Score(precision=0.7804878048780488, recall=0.3076923076923077, fmeasure=0.44137931034482764)}, {'rouge1': Score(precision=0.9433962264150944, recall=0.06188118811881188, fmeasure=0.11614401858304296), 'rougeL': Score(precision=0.8301886792452831, recall=0.054455445544554455, fmeasure=0.10220673635307781)}, {'rouge1': Score(precision=1.0, recall=0.06055363321799308, fmeasure=0.11419249592169657), 'rougeL': Score(precision=0.9714285714285714, recall=0.058823529411764705, fmeasure=0.11092985318107668)}, {'rouge1': Score(precision=1.0, recall=0.03292181069958848, fmeasure=0.06374501992031872), 'rougeL': Score(precision=0.9821428571428571, recall=0.03233392122281011, fmeasure=0.06260671599317018)}, {'rouge1': Score(precision=0.9375, recall=0.08, fmeasure=0.14742014742014742), 'rougeL': Score(precision=0.796875, recall=0.068, fmeasure=0.12530712530712532)}, {'rouge1': Score(precision=0.9772727272727273, recall=0.08128544423440454, fmeasure=0.15008726003490402), 'rougeL': Score(precision=0.6818181818181818, recall=0.05671077504725898, fmeasure=0.10471204188481675)}, {'rouge1': Score(precision=1.0, recall=0.06198347107438017, fmeasure=0.11673151750972764), 'rougeL': Score(precision=0.8444444444444444, recall=0.05234159779614325, fmeasure=0.0985732814526589)}, {'rouge1': Score(precision=1.0, recall=0.13701067615658363, fmeasure=0.2410015649452269), 'rougeL': Score(precision=0.974025974025974, recall=0.13345195729537365, fmeasure=0.23474178403755866)}, {'rouge1': Score(precision=1.0, recall=0.06606217616580311, fmeasure=0.12393681652490887), 'rougeL': Score(precision=1.0, recall=0.06606217616580311, fmeasure=0.12393681652490887)}, {'rouge1': Score(precision=1.0, recall=0.09621451104100946, fmeasure=0.17553956834532372), 'rougeL': Score(precision=0.8524590163934426, recall=0.08201892744479496, fmeasure=0.14964028776978416)}, {'rouge1': Score(precision=1.0, recall=0.08673469387755102, fmeasure=0.1596244131455399), 'rougeL': Score(precision=0.9117647058823529, recall=0.07908163265306123, fmeasure=0.14553990610328638)}, {'rouge1': Score(precision=1.0, recall=0.1001926782273603, fmeasure=0.18213660245183888), 'rougeL': Score(precision=0.7692307692307693, recall=0.07707129094412331, fmeasure=0.1401050788091068)}, {'rouge1': Score(precision=1.0, recall=0.07981927710843373, fmeasure=0.14783821478382148), 'rougeL': Score(precision=0.7735849056603774, recall=0.061746987951807226, fmeasure=0.11436541143654114)}, {'rouge1': Score(precision=1.0, recall=0.09504132231404959, fmeasure=0.17358490566037735), 'rougeL': Score(precision=1.0, recall=0.09504132231404959, fmeasure=0.17358490566037735)}, {'rouge1': Score(precision=1.0, recall=0.010196229318968833, fmeasure=0.020186631117882308), 'rougeL': Score(precision=0.9622641509433962, recall=0.009811465948441709, fmeasure=0.01942487145305656)}, {'rouge1': Score(precision=0.8363636363636363, recall=0.07705192629815745, fmeasure=0.1411042944785276), 'rougeL': Score(precision=0.7636363636363637, recall=0.07035175879396985, fmeasure=0.12883435582822086)}, {'rouge1': Score(precision=1.0, recall=0.0629575402635432, fmeasure=0.1184573002754821), 'rougeL': Score(precision=0.9302325581395349, recall=0.05856515373352855, fmeasure=0.11019283746556474)}, {'rouge1': Score(precision=0.9803921568627451, recall=0.09416195856873823, fmeasure=0.1718213058419244), 'rougeL': Score(precision=0.5686274509803921, recall=0.054613935969868174, fmeasure=0.09965635738831616)}, {'rouge1': Score(precision=0.9245283018867925, recall=0.09683794466403162, fmeasure=0.17531305903398925), 'rougeL': Score(precision=0.8490566037735849, recall=0.08893280632411067, fmeasure=0.16100178890876563)}, {'rouge1': Score(precision=1.0, recall=0.07142857142857142, fmeasure=0.13333333333333333), 'rougeL': Score(precision=1.0, recall=0.07142857142857142, fmeasure=0.13333333333333333)}, {'rouge1': Score(precision=1.0, recall=0.07507987220447285, fmeasure=0.1396731054977712), 'rougeL': Score(precision=0.7446808510638298, recall=0.05591054313099041, fmeasure=0.10401188707280831)}, {'rouge1': Score(precision=1.0, recall=0.07585139318885449, fmeasure=0.1410071942446043), 'rougeL': Score(precision=0.9795918367346939, recall=0.07430340557275542, fmeasure=0.1381294964028777)}, {'rouge1': Score(precision=1.0, recall=0.11910669975186104, fmeasure=0.21286031042128603), 'rougeL': Score(precision=0.7291666666666666, recall=0.08684863523573201, fmeasure=0.15521064301552104)}, {'rouge1': Score(precision=1.0, recall=0.04013663535439795, fmeasure=0.07717569786535304), 'rougeL': Score(precision=0.8723404255319149, recall=0.035012809564474806, fmeasure=0.06732348111658457)}, {'rouge1': Score(precision=1.0, recall=0.07751937984496124, fmeasure=0.14388489208633096), 'rougeL': Score(precision=1.0, recall=0.07751937984496124, fmeasure=0.14388489208633096)}, {'rouge1': Score(precision=0.9705882352941176, recall=0.0421455938697318, fmeasure=0.08078335373317014), 'rougeL': Score(precision=0.9117647058823529, recall=0.03959131545338442, fmeasure=0.0758873929008568)}, {'rouge1': Score(precision=1.0, recall=0.09895833333333333, fmeasure=0.18009478672985782), 'rougeL': Score(precision=1.0, recall=0.09895833333333333, fmeasure=0.18009478672985782)}, {'rouge1': Score(precision=0.9795918367346939, recall=0.1256544502617801, fmeasure=0.22273781902552203), 'rougeL': Score(precision=0.9591836734693877, recall=0.12303664921465969, fmeasure=0.21809744779582368)}, {'rouge1': Score(precision=0.8222222222222222, recall=0.07429718875502007, fmeasure=0.13627992633517494), 'rougeL': Score(precision=0.6, recall=0.05421686746987952, fmeasure=0.09944751381215469)}, {'rouge1': Score(precision=1.0, recall=0.1047008547008547, fmeasure=0.18955512572533847), 'rougeL': Score(precision=0.9795918367346939, recall=0.10256410256410256, fmeasure=0.18568665377176014)}, {'rouge1': Score(precision=1.0, recall=0.124282982791587, fmeasure=0.22108843537414968), 'rougeL': Score(precision=0.9846153846153847, recall=0.12237093690248566, fmeasure=0.21768707482993196)}, {'rouge1': Score(precision=1.0, recall=0.21052631578947367, fmeasure=0.34782608695652173), 'rougeL': Score(precision=0.9666666666666667, recall=0.20350877192982456, fmeasure=0.336231884057971)}, {'rouge1': Score(precision=0.9230769230769231, recall=0.11085450346420324, fmeasure=0.19793814432989693), 'rougeL': Score(precision=0.5961538461538461, recall=0.07159353348729793, fmeasure=0.12783505154639174)}, {'rouge1': Score(precision=1.0, recall=0.13025210084033614, fmeasure=0.2304832713754647), 'rougeL': Score(precision=0.8225806451612904, recall=0.10714285714285714, fmeasure=0.18959107806691453)}, {'rouge1': Score(precision=1.0, recall=0.02689873417721519, fmeasure=0.052388289676425275), 'rougeL': Score(precision=1.0, recall=0.02689873417721519, fmeasure=0.052388289676425275)}, {'rouge1': Score(precision=0.9863013698630136, recall=0.2033898305084746, fmeasure=0.3372365339578455), 'rougeL': Score(precision=0.726027397260274, recall=0.1497175141242938, fmeasure=0.24824355971896958)}, {'rouge1': Score(precision=0.9795918367346939, recall=0.11374407582938388, fmeasure=0.20382165605095537), 'rougeL': Score(precision=0.7142857142857143, recall=0.08293838862559241, fmeasure=0.14861995753715498)}, {'rouge1': Score(precision=1.0, recall=0.1048158640226629, fmeasure=0.18974358974358976), 'rougeL': Score(precision=0.918918918918919, recall=0.09631728045325778, fmeasure=0.17435897435897435)}, {'rouge1': Score(precision=1.0, recall=0.043909348441926344, fmeasure=0.0841248303934871), 'rougeL': Score(precision=0.7419354838709677, recall=0.032577903682719546, fmeasure=0.06241519674355495)}, {'rouge1': Score(precision=1.0, recall=0.02952029520295203, fmeasure=0.05734767025089605), 'rougeL': Score(precision=0.875, recall=0.025830258302583026, fmeasure=0.05017921146953405)}, {'rouge1': Score(precision=1.0, recall=0.031204644412191583, fmeasure=0.06052076002814919), 'rougeL': Score(precision=0.7906976744186046, recall=0.02467343976777939, fmeasure=0.04785362420830401)}, {'rouge1': Score(precision=0.9852941176470589, recall=0.0592396109637489, fmeasure=0.11175979983319433), 'rougeL': Score(precision=0.9411764705882353, recall=0.05658709106984969, fmeasure=0.1067556296914095)}, {'rouge1': Score(precision=1.0, recall=0.07063829787234042, fmeasure=0.13195548489666137), 'rougeL': Score(precision=1.0, recall=0.07063829787234042, fmeasure=0.13195548489666137)}, {'rouge1': Score(precision=1.0, recall=0.016942148760330577, fmeasure=0.03331978870377895), 'rougeL': Score(precision=1.0, recall=0.016942148760330577, fmeasure=0.03331978870377895)}, {'rouge1': Score(precision=1.0, recall=0.009598976109215018, fmeasure=0.01901542362138179), 'rougeL': Score(precision=0.8, recall=0.007679180887372013, fmeasure=0.01521233889710543)}, {'rouge1': Score(precision=1.0, recall=0.08702064896755163, fmeasure=0.16010854816824968), 'rougeL': Score(precision=0.8813559322033898, recall=0.07669616519174041, fmeasure=0.14111261872455905)}, {'rouge1': Score(precision=0.9615384615384616, recall=0.02345215759849906, fmeasure=0.045787545787545784), 'rougeL': Score(precision=0.8461538461538461, recall=0.020637898686679174, fmeasure=0.040293040293040296)}, {'rouge1': Score(precision=0.92, recall=0.06647398843930635, fmeasure=0.12398921832884097), 'rougeL': Score(precision=0.78, recall=0.05635838150289017, fmeasure=0.10512129380053907)}, {'rouge1': Score(precision=0.9878048780487805, recall=0.07136563876651983, fmeasure=0.133114215283484), 'rougeL': Score(precision=0.9512195121951219, recall=0.06872246696035242, fmeasure=0.12818405916187345)}, {'rouge1': Score(precision=1.0, recall=0.05893019038984588, fmeasure=0.11130136986301371), 'rougeL': Score(precision=0.6, recall=0.03535811423390753, fmeasure=0.06678082191780822)}, {'rouge1': Score(precision=0.9722222222222222, recall=0.035860655737704916, fmeasure=0.06916996047430829), 'rougeL': Score(precision=0.75, recall=0.027663934426229508, fmeasure=0.0533596837944664)}, {'rouge1': Score(precision=0.7916666666666666, recall=0.0625, fmeasure=0.11585365853658537), 'rougeL': Score(precision=0.6875, recall=0.054276315789473686, fmeasure=0.10060975609756097)}, {'rouge1': Score(precision=0.9772727272727273, recall=0.04317269076305221, fmeasure=0.08269230769230769), 'rougeL': Score(precision=0.7045454545454546, recall=0.03112449799196787, fmeasure=0.05961538461538462)}, {'rouge1': Score(precision=1.0, recall=0.052795031055900624, fmeasure=0.10029498525073746), 'rougeL': Score(precision=1.0, recall=0.052795031055900624, fmeasure=0.10029498525073746)}, {'rouge1': Score(precision=1.0, recall=0.08319738988580751, fmeasure=0.1536144578313253), 'rougeL': Score(precision=0.8235294117647058, recall=0.06851549755301795, fmeasure=0.12650602409638553)}, {'rouge1': Score(precision=1.0, recall=0.062146892655367235, fmeasure=0.11702127659574468), 'rougeL': Score(precision=1.0, recall=0.062146892655367235, fmeasure=0.11702127659574468)}, {'rouge1': Score(precision=1.0, recall=0.056291390728476824, fmeasure=0.1065830721003135), 'rougeL': Score(precision=0.8529411764705882, recall=0.048013245033112585, fmeasure=0.09090909090909091)}, {'rouge1': Score(precision=0.9534883720930233, recall=0.05647382920110193, fmeasure=0.10663198959687907), 'rougeL': Score(precision=0.8604651162790697, recall=0.05096418732782369, fmeasure=0.09622886866059818)}, {'rouge1': Score(precision=0.9032258064516129, recall=0.05951115834218916, fmeasure=0.11166500498504488), 'rougeL': Score(precision=0.8387096774193549, recall=0.05526036131774708, fmeasure=0.10368893320039882)}, {'rouge1': Score(precision=0.9166666666666666, recall=0.12154696132596685, fmeasure=0.2146341463414634), 'rougeL': Score(precision=0.625, recall=0.08287292817679558, fmeasure=0.14634146341463414)}, {'rouge1': Score(precision=0.9767441860465116, recall=0.07046979865771812, fmeasure=0.13145539906103287), 'rougeL': Score(precision=0.7209302325581395, recall=0.05201342281879195, fmeasure=0.0970266040688576)}, {'rouge1': Score(precision=1.0, recall=0.08256880733944955, fmeasure=0.15254237288135594), 'rougeL': Score(precision=0.8888888888888888, recall=0.07339449541284404, fmeasure=0.13559322033898308)}, {'rouge1': Score(precision=0.9344262295081968, recall=0.02727272727272727, fmeasure=0.05299860529986053), 'rougeL': Score(precision=0.8032786885245902, recall=0.023444976076555026, fmeasure=0.04556020455602046)}, {'rouge1': Score(precision=1.0, recall=0.06451612903225806, fmeasure=0.12121212121212122), 'rougeL': Score(precision=0.85, recall=0.054838709677419356, fmeasure=0.10303030303030304)}, {'rouge1': Score(precision=1.0, recall=0.028193525931082493, fmeasure=0.05484089370345294), 'rougeL': Score(precision=0.9753086419753086, recall=0.027497389488339713, fmeasure=0.05348679756262694)}, {'rouge1': Score(precision=1.0, recall=0.04767580452920143, fmeasure=0.09101251422070535), 'rougeL': Score(precision=0.675, recall=0.03218116805721097, fmeasure=0.06143344709897612)}, {'rouge1': Score(precision=1.0, recall=0.15306122448979592, fmeasure=0.2654867256637168), 'rougeL': Score(precision=1.0, recall=0.15306122448979592, fmeasure=0.2654867256637168)}, {'rouge1': Score(precision=1.0, recall=0.04946996466431095, fmeasure=0.09427609427609428), 'rougeL': Score(precision=0.9285714285714286, recall=0.045936395759717315, fmeasure=0.08754208754208755)}, {'rouge1': Score(precision=1.0, recall=0.0219435736677116, fmeasure=0.04294478527607362), 'rougeL': Score(precision=0.8095238095238095, recall=0.017763845350052248, fmeasure=0.034764826175869123)}, {'rouge1': Score(precision=1.0, recall=0.10319410319410319, fmeasure=0.18708240534521156), 'rougeL': Score(precision=0.7142857142857143, recall=0.07371007371007371, fmeasure=0.133630289532294)}, {'rouge1': Score(precision=1.0, recall=0.05863192182410423, fmeasure=0.11076923076923076), 'rougeL': Score(precision=0.7407407407407407, recall=0.04343105320304017, fmeasure=0.08205128205128205)}, {'rouge1': Score(precision=1.0, recall=0.06970128022759602, fmeasure=0.13031914893617022), 'rougeL': Score(precision=1.0, recall=0.06970128022759602, fmeasure=0.13031914893617022)}, {'rouge1': Score(precision=0.85, recall=0.19540229885057472, fmeasure=0.31775700934579443), 'rougeL': Score(precision=0.6833333333333333, recall=0.15708812260536398, fmeasure=0.25545171339563866)}, {'rouge1': Score(precision=1.0, recall=0.06037151702786378, fmeasure=0.11386861313868614), 'rougeL': Score(precision=0.8461538461538461, recall=0.05108359133126935, fmeasure=0.09635036496350365)}, {'rouge1': Score(precision=1.0, recall=0.10256410256410256, fmeasure=0.18604651162790695), 'rougeL': Score(precision=1.0, recall=0.10256410256410256, fmeasure=0.18604651162790695)}, {'rouge1': Score(precision=1.0, recall=0.3310344827586207, fmeasure=0.49740932642487046), 'rougeL': Score(precision=0.8541666666666666, recall=0.2827586206896552, fmeasure=0.42487046632124353)}, {'rouge1': Score(precision=0.9452054794520548, recall=0.0913907284768212, fmeasure=0.16666666666666669), 'rougeL': Score(precision=0.8767123287671232, recall=0.0847682119205298, fmeasure=0.15458937198067632)}, {'rouge1': Score(precision=1.0, recall=0.2814814814814815, fmeasure=0.43930635838150295), 'rougeL': Score(precision=0.9473684210526315, recall=0.26666666666666666, fmeasure=0.4161849710982659)}, {'rouge1': Score(precision=0.9722222222222222, recall=0.0707070707070707, fmeasure=0.1318267419962335), 'rougeL': Score(precision=0.7777777777777778, recall=0.05656565656565657, fmeasure=0.10546139359698682)}, {'rouge1': Score(precision=1.0, recall=0.06743421052631579, fmeasure=0.1263482280431433), 'rougeL': Score(precision=0.7073170731707317, recall=0.047697368421052634, fmeasure=0.08936825885978428)}, {'rouge1': Score(precision=0.9605263157894737, recall=0.15336134453781514, fmeasure=0.2644927536231884), 'rougeL': Score(precision=0.8289473684210527, recall=0.1323529411764706, fmeasure=0.2282608695652174)}, {'rouge1': Score(precision=1.0, recall=0.09786476868327403, fmeasure=0.17828200972447325), 'rougeL': Score(precision=0.8545454545454545, recall=0.08362989323843416, fmeasure=0.15235008103727712)}, {'rouge1': Score(precision=1.0, recall=0.0703125, fmeasure=0.13138686131386862), 'rougeL': Score(precision=0.9555555555555556, recall=0.0671875, fmeasure=0.12554744525547445)}, {'rouge1': Score(precision=1.0, recall=0.08916323731138547, fmeasure=0.163727959697733), 'rougeL': Score(precision=1.0, recall=0.08916323731138547, fmeasure=0.163727959697733)}, {'rouge1': Score(precision=0.8955223880597015, recall=0.15151515151515152, fmeasure=0.2591792656587473), 'rougeL': Score(precision=0.7611940298507462, recall=0.12878787878787878, fmeasure=0.2203023758099352)}, {'rouge1': Score(precision=0.9772727272727273, recall=0.40186915887850466, fmeasure=0.5695364238410596), 'rougeL': Score(precision=0.9318181818181818, recall=0.38317757009345793, fmeasure=0.5430463576158939)}, {'rouge1': Score(precision=1.0, recall=0.06896551724137931, fmeasure=0.12903225806451613), 'rougeL': Score(precision=0.8888888888888888, recall=0.06130268199233716, fmeasure=0.11469534050179211)}, {'rouge1': Score(precision=1.0, recall=0.10082304526748971, fmeasure=0.18317757009345795), 'rougeL': Score(precision=0.8367346938775511, recall=0.08436213991769548, fmeasure=0.15327102803738318)}, {'rouge1': Score(precision=0.9333333333333333, recall=0.17369727047146402, fmeasure=0.2928870292887029), 'rougeL': Score(precision=0.8533333333333334, recall=0.1588089330024814, fmeasure=0.26778242677824265)}, {'rouge1': Score(precision=0.45714285714285713, recall=0.12955465587044535, fmeasure=0.20189274447949526), 'rougeL': Score(precision=0.32857142857142857, recall=0.0931174089068826, fmeasure=0.14511041009463724)}, {'rouge1': Score(precision=0.9777777777777777, recall=0.0547945205479452, fmeasure=0.10377358490566038), 'rougeL': Score(precision=0.9333333333333333, recall=0.052303860523038606, fmeasure=0.0990566037735849)}, {'rouge1': Score(precision=1.0, recall=0.1067193675889328, fmeasure=0.19285714285714284), 'rougeL': Score(precision=0.9629629629629629, recall=0.10276679841897234, fmeasure=0.18571428571428572)}, {'rouge1': Score(precision=0.9230769230769231, recall=0.24489795918367346, fmeasure=0.3870967741935484), 'rougeL': Score(precision=0.8153846153846154, recall=0.2163265306122449, fmeasure=0.3419354838709678)}, {'rouge1': Score(precision=0.9818181818181818, recall=0.17088607594936708, fmeasure=0.2911051212938005), 'rougeL': Score(precision=0.8181818181818182, recall=0.14240506329113925, fmeasure=0.24258760107816713)}, {'rouge1': Score(precision=1.0, recall=0.18385650224215247, fmeasure=0.3106060606060606), 'rougeL': Score(precision=0.5365853658536586, recall=0.09865470852017937, fmeasure=0.16666666666666669)}, {'rouge1': Score(precision=1.0, recall=0.08364544319600499, fmeasure=0.1543778801843318), 'rougeL': Score(precision=1.0, recall=0.08364544319600499, fmeasure=0.1543778801843318)}, {'rouge1': Score(precision=1.0, recall=0.08051529790660225, fmeasure=0.14903129657228018), 'rougeL': Score(precision=0.96, recall=0.07729468599033816, fmeasure=0.143070044709389)}, {'rouge1': Score(precision=0.8863636363636364, recall=0.08609271523178808, fmeasure=0.15694164989939635), 'rougeL': Score(precision=0.5909090909090909, recall=0.05739514348785872, fmeasure=0.1046277665995976)}, {'rouge1': Score(precision=0.9622641509433962, recall=0.04632152588555858, fmeasure=0.08838821490467938), 'rougeL': Score(precision=0.7924528301886793, recall=0.03814713896457766, fmeasure=0.07279029462738301)}, {'rouge1': Score(precision=1.0, recall=0.04067796610169491, fmeasure=0.0781758957654723), 'rougeL': Score(precision=0.8611111111111112, recall=0.03502824858757062, fmeasure=0.06731813246471227)}]\n",
            "BART Rouge Scores:  [{'rouge1': Score(precision=0.6923076923076923, recall=0.08653846153846154, fmeasure=0.15384615384615383), 'rougeL': Score(precision=0.46153846153846156, recall=0.057692307692307696, fmeasure=0.10256410256410257)}, {'rouge1': Score(precision=0.9701492537313433, recall=0.08044554455445545, fmeasure=0.14857142857142855), 'rougeL': Score(precision=0.9701492537313433, recall=0.08044554455445545, fmeasure=0.14857142857142855)}, {'rouge1': Score(precision=1.0, recall=0.10553633217993079, fmeasure=0.19092331768388107), 'rougeL': Score(precision=1.0, recall=0.10553633217993079, fmeasure=0.19092331768388107)}, {'rouge1': Score(precision=1.0, recall=0.0752498530276308, fmeasure=0.13996719518862766), 'rougeL': Score(precision=0.9921875, recall=0.07466196355085244, fmeasure=0.1388737014762165)}, {'rouge1': Score(precision=1.0, recall=0.08266666666666667, fmeasure=0.15270935960591134), 'rougeL': Score(precision=1.0, recall=0.08266666666666667, fmeasure=0.15270935960591134)}, {'rouge1': Score(precision=1.0, recall=0.09829867674858223, fmeasure=0.17900172117039584), 'rougeL': Score(precision=1.0, recall=0.09829867674858223, fmeasure=0.17900172117039584)}, {'rouge1': Score(precision=1.0, recall=0.08264462809917356, fmeasure=0.15267175572519084), 'rougeL': Score(precision=0.9833333333333333, recall=0.081267217630854, fmeasure=0.1501272264631043)}, {'rouge1': Score(precision=1.0, recall=0.14590747330960854, fmeasure=0.2546583850931677), 'rougeL': Score(precision=0.9878048780487805, recall=0.14412811387900357, fmeasure=0.2515527950310559)}, {'rouge1': Score(precision=1.0, recall=0.08808290155440414, fmeasure=0.16190476190476188), 'rougeL': Score(precision=0.9852941176470589, recall=0.08678756476683938, fmeasure=0.1595238095238095)}, {'rouge1': Score(precision=1.0, recall=0.10883280757097792, fmeasure=0.19630156472261737), 'rougeL': Score(precision=1.0, recall=0.10883280757097792, fmeasure=0.19630156472261737)}, {'rouge1': Score(precision=1.0, recall=0.09693877551020408, fmeasure=0.17674418604651163), 'rougeL': Score(precision=0.7894736842105263, recall=0.07653061224489796, fmeasure=0.13953488372093023)}, {'rouge1': Score(precision=0.9583333333333334, recall=0.1329479768786127, fmeasure=0.23350253807106597), 'rougeL': Score(precision=0.9444444444444444, recall=0.13102119460500963, fmeasure=0.23011844331641285)}, {'rouge1': Score(precision=1.0, recall=0.09487951807228916, fmeasure=0.1733149931224209), 'rougeL': Score(precision=1.0, recall=0.09487951807228916, fmeasure=0.1733149931224209)}, {'rouge1': Score(precision=1.0, recall=0.1115702479338843, fmeasure=0.20074349442379183), 'rougeL': Score(precision=1.0, recall=0.1115702479338843, fmeasure=0.20074349442379183)}, {'rouge1': Score(precision=0.9831932773109243, recall=0.06752597152751058, fmeasure=0.12637263726372636), 'rougeL': Score(precision=0.6862745098039216, recall=0.04713351288957291, fmeasure=0.0882088208820882)}, {'rouge1': Score(precision=1.0, recall=0.10552763819095477, fmeasure=0.19090909090909092), 'rougeL': Score(precision=1.0, recall=0.10552763819095477, fmeasure=0.19090909090909092)}, {'rouge1': Score(precision=1.0, recall=0.0951683748169839, fmeasure=0.1737967914438503), 'rougeL': Score(precision=1.0, recall=0.0951683748169839, fmeasure=0.1737967914438503)}, {'rouge1': Score(precision=1.0, recall=0.08286252354048965, fmeasure=0.1530434782608696), 'rougeL': Score(precision=1.0, recall=0.08286252354048965, fmeasure=0.1530434782608696)}, {'rouge1': Score(precision=1.0, recall=0.12845849802371542, fmeasure=0.22767075306479861), 'rougeL': Score(precision=1.0, recall=0.12845849802371542, fmeasure=0.22767075306479861)}, {'rouge1': Score(precision=1.0, recall=0.08214285714285714, fmeasure=0.15181518151815182), 'rougeL': Score(precision=1.0, recall=0.08214285714285714, fmeasure=0.15181518151815182)}, {'rouge1': Score(precision=1.0, recall=0.10862619808306709, fmeasure=0.19596541786743513), 'rougeL': Score(precision=0.9852941176470589, recall=0.10702875399361023, fmeasure=0.1930835734870317)}, {'rouge1': Score(precision=0.9827586206896551, recall=0.08823529411764706, fmeasure=0.1619318181818182), 'rougeL': Score(precision=0.9655172413793104, recall=0.08668730650154799, fmeasure=0.15909090909090912)}, {'rouge1': Score(precision=1.0, recall=0.08188585607940446, fmeasure=0.1513761467889908), 'rougeL': Score(precision=1.0, recall=0.08188585607940446, fmeasure=0.1513761467889908)}, {'rouge1': Score(precision=0.978494623655914, recall=0.07771135781383433, fmeasure=0.1439873417721519), 'rougeL': Score(precision=0.8279569892473119, recall=0.06575576430401367, fmeasure=0.12183544303797471)}, {'rouge1': Score(precision=1.0, recall=0.0872093023255814, fmeasure=0.16042780748663102), 'rougeL': Score(precision=0.8888888888888888, recall=0.07751937984496124, fmeasure=0.142602495543672)}, {'rouge1': Score(precision=0.967741935483871, recall=0.07662835249042145, fmeasure=0.14201183431952663), 'rougeL': Score(precision=0.9354838709677419, recall=0.07407407407407407, fmeasure=0.13727810650887573)}, {'rouge1': Score(precision=0.9838709677419355, recall=0.15885416666666666, fmeasure=0.27354260089686094), 'rougeL': Score(precision=0.9838709677419355, recall=0.15885416666666666, fmeasure=0.27354260089686094)}, {'rouge1': Score(precision=1.0, recall=0.14397905759162305, fmeasure=0.2517162471395881), 'rougeL': Score(precision=0.9636363636363636, recall=0.1387434554973822, fmeasure=0.24256292906178492)}, {'rouge1': Score(precision=0.9811320754716981, recall=0.10441767068273092, fmeasure=0.18874773139745918), 'rougeL': Score(precision=0.9811320754716981, recall=0.10441767068273092, fmeasure=0.18874773139745918)}, {'rouge1': Score(precision=1.0, recall=0.1282051282051282, fmeasure=0.22727272727272727), 'rougeL': Score(precision=1.0, recall=0.1282051282051282, fmeasure=0.22727272727272727)}, {'rouge1': Score(precision=1.0, recall=0.07265774378585087, fmeasure=0.13547237076648844), 'rougeL': Score(precision=1.0, recall=0.07265774378585087, fmeasure=0.13547237076648844)}, {'rouge1': Score(precision=1.0, recall=0.16842105263157894, fmeasure=0.2882882882882883), 'rougeL': Score(precision=0.9791666666666666, recall=0.1649122807017544, fmeasure=0.2822822822822823)}, {'rouge1': Score(precision=1.0, recall=0.09930715935334873, fmeasure=0.18067226890756302), 'rougeL': Score(precision=0.9069767441860465, recall=0.09006928406466513, fmeasure=0.1638655462184874)}, {'rouge1': Score(precision=1.0, recall=0.11134453781512606, fmeasure=0.2003780718336484), 'rougeL': Score(precision=0.7924528301886793, recall=0.08823529411764706, fmeasure=0.15879017013232513)}, {'rouge1': Score(precision=1.0, recall=0.08122362869198312, fmeasure=0.15024390243902436), 'rougeL': Score(precision=1.0, recall=0.08122362869198312, fmeasure=0.15024390243902436)}, {'rouge1': Score(precision=1.0, recall=0.11016949152542373, fmeasure=0.1984732824427481), 'rougeL': Score(precision=1.0, recall=0.11016949152542373, fmeasure=0.1984732824427481)}, {'rouge1': Score(precision=0.9787234042553191, recall=0.10900473933649289, fmeasure=0.19616204690831557), 'rougeL': Score(precision=0.9787234042553191, recall=0.10900473933649289, fmeasure=0.19616204690831557)}, {'rouge1': Score(precision=1.0, recall=0.13314447592067988, fmeasure=0.235), 'rougeL': Score(precision=1.0, recall=0.13314447592067988, fmeasure=0.235)}, {'rouge1': Score(precision=1.0, recall=0.08852691218130311, fmeasure=0.16265452179570591), 'rougeL': Score(precision=0.896, recall=0.07932011331444759, fmeasure=0.1457384515289525)}, {'rouge1': Score(precision=1.0, recall=0.08118081180811808, fmeasure=0.1501706484641638), 'rougeL': Score(precision=0.990909090909091, recall=0.08044280442804429, fmeasure=0.14880546075085324)}, {'rouge1': Score(precision=1.0, recall=0.08708272859216255, fmeasure=0.1602136181575434), 'rougeL': Score(precision=1.0, recall=0.08708272859216255, fmeasure=0.1602136181575434)}, {'rouge1': Score(precision=1.0, recall=0.09018567639257294, fmeasure=0.16545012165450118), 'rougeL': Score(precision=1.0, recall=0.09018567639257294, fmeasure=0.16545012165450118)}, {'rouge1': Score(precision=1.0, recall=0.0774468085106383, fmeasure=0.14375987361769352), 'rougeL': Score(precision=0.989010989010989, recall=0.07659574468085106, fmeasure=0.14218009478672988)}, {'rouge1': Score(precision=0.9679144385026738, recall=0.07479338842975207, fmeasure=0.13885692366705024), 'rougeL': Score(precision=0.8181818181818182, recall=0.06322314049586777, fmeasure=0.11737629459148448)}, {'rouge1': Score(precision=0.9889807162534435, recall=0.07657849829351536, fmeasure=0.14215006929320928), 'rougeL': Score(precision=0.7823691460055097, recall=0.060580204778156996, fmeasure=0.11245297960799841)}, {'rouge1': Score(precision=1.0, recall=0.0855457227138643, fmeasure=0.15760869565217392), 'rougeL': Score(precision=0.7758620689655172, recall=0.06637168141592921, fmeasure=0.12228260869565218)}, {'rouge1': Score(precision=0.9653179190751445, recall=0.07833020637898687, fmeasure=0.14490238611713666), 'rougeL': Score(precision=0.7052023121387283, recall=0.05722326454033771, fmeasure=0.10585683297180044)}, {'rouge1': Score(precision=1.0, recall=0.0953757225433526, fmeasure=0.17414248021108178), 'rougeL': Score(precision=0.9545454545454546, recall=0.09104046242774566, fmeasure=0.1662269129287599)}, {'rouge1': Score(precision=0.9897959183673469, recall=0.08546255506607929, fmeasure=0.1573398215733982), 'rougeL': Score(precision=0.9081632653061225, recall=0.07841409691629955, fmeasure=0.14436334144363341)}, {'rouge1': Score(precision=1.0, recall=0.07615593834995467, fmeasure=0.14153327716933448), 'rougeL': Score(precision=0.9642857142857143, recall=0.07343608340888486, fmeasure=0.13647851727042964)}, {'rouge1': Score(precision=1.0, recall=0.08196721311475409, fmeasure=0.1515151515151515), 'rougeL': Score(precision=1.0, recall=0.08196721311475409, fmeasure=0.1515151515151515)}, {'rouge1': Score(precision=1.0, recall=0.08388157894736842, fmeasure=0.15477996965098634), 'rougeL': Score(precision=1.0, recall=0.08388157894736842, fmeasure=0.15477996965098634)}, {'rouge1': Score(precision=1.0, recall=0.08634538152610442, fmeasure=0.1589648798521257), 'rougeL': Score(precision=0.9883720930232558, recall=0.0853413654618474, fmeasure=0.15711645101663588)}, {'rouge1': Score(precision=0.9807692307692307, recall=0.07919254658385093, fmeasure=0.14655172413793105), 'rougeL': Score(precision=0.9807692307692307, recall=0.07919254658385093, fmeasure=0.14655172413793105)}, {'rouge1': Score(precision=1.0, recall=0.09787928221859707, fmeasure=0.1783060921248143), 'rougeL': Score(precision=0.95, recall=0.0929853181076672, fmeasure=0.16939078751857353)}, {'rouge1': Score(precision=1.0, recall=0.08333333333333333, fmeasure=0.15384615384615385), 'rougeL': Score(precision=0.7288135593220338, recall=0.06073446327683616, fmeasure=0.1121251629726206)}, {'rouge1': Score(precision=1.0, recall=0.08112582781456953, fmeasure=0.15007656967840735), 'rougeL': Score(precision=0.9795918367346939, recall=0.07947019867549669, fmeasure=0.14701378254211334)}, {'rouge1': Score(precision=1.0, recall=0.09779614325068871, fmeasure=0.17816813048933502), 'rougeL': Score(precision=1.0, recall=0.09779614325068871, fmeasure=0.17816813048933502)}, {'rouge1': Score(precision=1.0, recall=0.09032943676939426, fmeasure=0.16569200779727095), 'rougeL': Score(precision=1.0, recall=0.09032943676939426, fmeasure=0.16569200779727095)}, {'rouge1': Score(precision=1.0, recall=0.14917127071823205, fmeasure=0.25961538461538464), 'rougeL': Score(precision=1.0, recall=0.14917127071823205, fmeasure=0.25961538461538464)}, {'rouge1': Score(precision=1.0, recall=0.09395973154362416, fmeasure=0.17177914110429446), 'rougeL': Score(precision=1.0, recall=0.09395973154362416, fmeasure=0.17177914110429446)}, {'rouge1': Score(precision=1.0, recall=0.10275229357798166, fmeasure=0.18635607321131448), 'rougeL': Score(precision=1.0, recall=0.10275229357798166, fmeasure=0.18635607321131448)}, {'rouge1': Score(precision=0.9936708860759493, recall=0.07511961722488038, fmeasure=0.13967971530249107), 'rougeL': Score(precision=0.9746835443037974, recall=0.07368421052631578, fmeasure=0.13701067615658363)}, {'rouge1': Score(precision=1.0, recall=0.08709677419354839, fmeasure=0.1602373887240356), 'rougeL': Score(precision=1.0, recall=0.08709677419354839, fmeasure=0.1602373887240356)}, {'rouge1': Score(precision=0.9921259842519685, recall=0.08771319178558998, fmeasure=0.16117684681803646), 'rougeL': Score(precision=0.9566929133858267, recall=0.08458057779324747, fmeasure=0.15542053086024946)}, {'rouge1': Score(precision=1.0, recall=0.10131108462455304, fmeasure=0.183982683982684), 'rougeL': Score(precision=0.7411764705882353, recall=0.07508939213349225, fmeasure=0.13636363636363635)}, {'rouge1': Score(precision=0.9791666666666666, recall=0.1598639455782313, fmeasure=0.27485380116959063), 'rougeL': Score(precision=0.9166666666666666, recall=0.14965986394557823, fmeasure=0.2573099415204678)}, {'rouge1': Score(precision=1.0, recall=0.0800942285041225, fmeasure=0.14830970556161396), 'rougeL': Score(precision=1.0, recall=0.0800942285041225, fmeasure=0.14830970556161396)}, {'rouge1': Score(precision=0.9935897435897436, recall=0.08098223615464994, fmeasure=0.1497584541062802), 'rougeL': Score(precision=0.6794871794871795, recall=0.055381400208986416, fmeasure=0.10241545893719806)}, {'rouge1': Score(precision=1.0, recall=0.10073710073710074, fmeasure=0.18303571428571427), 'rougeL': Score(precision=1.0, recall=0.10073710073710074, fmeasure=0.18303571428571427)}, {'rouge1': Score(precision=1.0, recall=0.0998914223669924, fmeasure=0.18163869693978282), 'rougeL': Score(precision=1.0, recall=0.0998914223669924, fmeasure=0.18163869693978282)}, {'rouge1': Score(precision=1.0, recall=0.09957325746799431, fmeasure=0.18111254851228975), 'rougeL': Score(precision=0.9428571428571428, recall=0.09388335704125178, fmeasure=0.1707632600258732)}, {'rouge1': Score(precision=1.0, recall=0.11494252873563218, fmeasure=0.20618556701030927), 'rougeL': Score(precision=1.0, recall=0.11494252873563218, fmeasure=0.20618556701030927)}, {'rouge1': Score(precision=0.9696969696969697, recall=0.09907120743034056, fmeasure=0.17977528089887643), 'rougeL': Score(precision=0.9696969696969697, recall=0.09907120743034056, fmeasure=0.17977528089887643)}, {'rouge1': Score(precision=1.0, recall=0.12991452991452992, fmeasure=0.22995461422087748), 'rougeL': Score(precision=1.0, recall=0.12991452991452992, fmeasure=0.22995461422087748)}, {'rouge1': Score(precision=0.9523809523809523, recall=0.13793103448275862, fmeasure=0.24096385542168672), 'rougeL': Score(precision=0.9523809523809523, recall=0.13793103448275862, fmeasure=0.24096385542168672)}, {'rouge1': Score(precision=1.0, recall=0.09271523178807947, fmeasure=0.1696969696969697), 'rougeL': Score(precision=1.0, recall=0.09271523178807947, fmeasure=0.1696969696969697)}, {'rouge1': Score(precision=1.0, recall=0.13333333333333333, fmeasure=0.23529411764705882), 'rougeL': Score(precision=1.0, recall=0.13333333333333333, fmeasure=0.23529411764705882)}, {'rouge1': Score(precision=1.0, recall=0.1111111111111111, fmeasure=0.19999999999999998), 'rougeL': Score(precision=1.0, recall=0.1111111111111111, fmeasure=0.19999999999999998)}, {'rouge1': Score(precision=1.0, recall=0.10032894736842106, fmeasure=0.18236173393124067), 'rougeL': Score(precision=1.0, recall=0.10032894736842106, fmeasure=0.18236173393124067)}, {'rouge1': Score(precision=1.0, recall=0.14285714285714285, fmeasure=0.25), 'rougeL': Score(precision=0.9852941176470589, recall=0.1407563025210084, fmeasure=0.24632352941176472)}, {'rouge1': Score(precision=1.0, recall=0.1103202846975089, fmeasure=0.19871794871794873), 'rougeL': Score(precision=1.0, recall=0.1103202846975089, fmeasure=0.19871794871794873)}, {'rouge1': Score(precision=1.0, recall=0.1046875, fmeasure=0.18953323903818953), 'rougeL': Score(precision=0.9850746268656716, recall=0.103125, fmeasure=0.18670438472418668)}, {'rouge1': Score(precision=1.0, recall=0.09053497942386832, fmeasure=0.1660377358490566), 'rougeL': Score(precision=1.0, recall=0.09053497942386832, fmeasure=0.1660377358490566)}, {'rouge1': Score(precision=0.9705882352941176, recall=0.08333333333333333, fmeasure=0.15348837209302324), 'rougeL': Score(precision=0.9705882352941176, recall=0.08333333333333333, fmeasure=0.15348837209302324)}, {'rouge1': Score(precision=1.0, recall=0.12149532710280374, fmeasure=0.21666666666666667), 'rougeL': Score(precision=1.0, recall=0.12149532710280374, fmeasure=0.21666666666666667)}, {'rouge1': Score(precision=0.9710144927536232, recall=0.12835249042145594, fmeasure=0.2267343485617597), 'rougeL': Score(precision=0.9420289855072463, recall=0.12452107279693486, fmeasure=0.21996615905245348)}, {'rouge1': Score(precision=1.0, recall=0.09259259259259259, fmeasure=0.1694915254237288), 'rougeL': Score(precision=1.0, recall=0.09259259259259259, fmeasure=0.1694915254237288)}, {'rouge1': Score(precision=0.9838709677419355, recall=0.1513647642679901, fmeasure=0.2623655913978495), 'rougeL': Score(precision=0.9838709677419355, recall=0.1513647642679901, fmeasure=0.2623655913978495)}, {'rouge1': Score(precision=1.0, recall=0.11740890688259109, fmeasure=0.2101449275362319), 'rougeL': Score(precision=1.0, recall=0.11740890688259109, fmeasure=0.2101449275362319)}, {'rouge1': Score(precision=0.9782608695652174, recall=0.11207970112079702, fmeasure=0.20111731843575423), 'rougeL': Score(precision=0.9239130434782609, recall=0.10585305105853052, fmeasure=0.18994413407821228)}, {'rouge1': Score(precision=1.0, recall=0.08102766798418973, fmeasure=0.14990859232175505), 'rougeL': Score(precision=0.926829268292683, recall=0.07509881422924901, fmeasure=0.13893967093235832)}, {'rouge1': Score(precision=1.0, recall=0.10204081632653061, fmeasure=0.1851851851851852), 'rougeL': Score(precision=1.0, recall=0.10204081632653061, fmeasure=0.1851851851851852)}, {'rouge1': Score(precision=1.0, recall=0.0981012658227848, fmeasure=0.17867435158501438), 'rougeL': Score(precision=1.0, recall=0.0981012658227848, fmeasure=0.17867435158501438)}, {'rouge1': Score(precision=0.967741935483871, recall=0.13452914798206278, fmeasure=0.2362204724409449), 'rougeL': Score(precision=0.967741935483871, recall=0.13452914798206278, fmeasure=0.2362204724409449)}, {'rouge1': Score(precision=1.0, recall=0.08489388264669163, fmeasure=0.1565017261219793), 'rougeL': Score(precision=1.0, recall=0.08489388264669163, fmeasure=0.1565017261219793)}, {'rouge1': Score(precision=0.9787234042553191, recall=0.07407407407407407, fmeasure=0.1377245508982036), 'rougeL': Score(precision=0.9574468085106383, recall=0.07246376811594203, fmeasure=0.1347305389221557)}, {'rouge1': Score(precision=1.0, recall=0.07947019867549669, fmeasure=0.147239263803681), 'rougeL': Score(precision=0.8611111111111112, recall=0.0684326710816777, fmeasure=0.12678936605316973)}, {'rouge1': Score(precision=1.0, recall=0.07084468664850137, fmeasure=0.13231552162849874), 'rougeL': Score(precision=1.0, recall=0.07084468664850137, fmeasure=0.13231552162849874)}, {'rouge1': Score(precision=0.9925373134328358, recall=0.07514124293785311, fmeasure=0.13970588235294118), 'rougeL': Score(precision=0.9925373134328358, recall=0.07514124293785311, fmeasure=0.13970588235294118)}]\n"
          ],
          "name": "stdout"
        }
      ]
    },
    {
      "cell_type": "markdown",
      "metadata": {
        "id": "FEfQQi-i94Gf"
      },
      "source": [
        "Comparing the Fmeasure of all three models"
      ]
    },
    {
      "cell_type": "code",
      "metadata": {
        "id": "Up3dsy109XzS"
      },
      "source": [
        "t5Fmeasure = []\n",
        "bartFmeasure = []"
      ],
      "execution_count": null,
      "outputs": []
    },
    {
      "cell_type": "code",
      "metadata": {
        "id": "nOMgMBP79c_v"
      },
      "source": [
        "for i in range(0,100):\n",
        "  t5Fmeasure.append(t5Rouge[i]['rougeL'].fmeasure)\n",
        "  bartFmeasure.append(bartRouge[i]['rougeL'].fmeasure)"
      ],
      "execution_count": null,
      "outputs": []
    },
    {
      "cell_type": "code",
      "metadata": {
        "id": "Qsb6oK5X-DQD",
        "colab": {
          "base_uri": "https://localhost:8080/"
        },
        "outputId": "e22174b1-7b87-406b-e673-343ba36ca464"
      },
      "source": [
        "from statistics import mean\n",
        "\n",
        "print(\"Cumulative F Measure\")\n",
        "print(\"T5 : \", round(mean(t5Fmeasure), 6))\n",
        "print(\"BART : \", round(mean(bartFmeasure), 6))"
      ],
      "execution_count": null,
      "outputs": [
        {
          "output_type": "stream",
          "text": [
            "Cumulative F Measure\n",
            "T5 :  0.14217\n",
            "BART :  0.173502\n"
          ],
          "name": "stdout"
        }
      ]
    },
    {
      "cell_type": "code",
      "metadata": {
        "id": "45AQDsRNRST2"
      },
      "source": [
        "#from nltk.translate.bleu_score import sentence_bleu\n",
        "#from nltk.translate.bleu_score import SmoothingFunction\n",
        "#smoothie = SmoothingFunction().method4\n",
        "#reference = str('''Eight people are dead following two shootings at shisha bars in the western German city of Hanau. At least five people were injured after gunmen opened fire at about 22:00 local time (21:00 GMT), police told the BBC. Police added that they are searching for the suspects, who fled the scene and are currently at large. The first shooting was at a bar in the city centre, while the second was in Hanau's Kesselstadt neighbourhood, according to local reports. Police officers and helicopters are patrolling both areas. An unknown number of gunmen killed three people at the first shisha bar, Midnight, before driving to the Arena Bar & Cafe and shooting dead another five victims, regional broadcaster Hessenschau reports. A dark-coloured vehicle was then seen leaving the scene.The motive for the attack is unclear, a police statement said. Can-Luca Frisenna, who works at a kiosk at the scene of one of the shootings said his father and brother were in the area when the attack took place. It's like being in a film, it's like a bad joke, that someone is playing a joke on us, he told Reuters.I can't grasp yet everything that has happened. My colleagues, all my colleagues, they are like my family - they can't understand it either. Hanau, in the state of Hessen, is about 25km (15 miles) east of Frankfurt. It comes four days after another shooting in Berlin, near a Turkish comedy show at the Tempodrom concert venue, which killed one person.''').split()\n",
        "#candidate = str('''Eight people are dead following two shootings at shisha bars in the western German city of Hanau. The first shooting was at a bar in the city centre, while the second was in Hanau's Kesselstadt neighbourhood, according to local reports. It's like being in a film, it's like a bad joke, that someone is playing a joke on us, he told Reuters.''').split()\n",
        "#score = sentence_bleu(reference, candidate, smoothing_function=smoothie)\n",
        "#print(round(score,6))"
      ],
      "execution_count": null,
      "outputs": []
    }
  ]
}